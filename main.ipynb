{
 "cells": [
  {
   "cell_type": "code",
   "execution_count": 1,
   "id": "8bbe48c8",
   "metadata": {
    "scrolled": true
   },
   "outputs": [],
   "source": [
    "# -*- coding: utf-8 -*- \n",
    "import os \n",
    "import argparse\n",
    "import re \n",
    "import time \n",
    "\n",
    "from modules import folderMoniter, patternRecognizer, metaExtracter\n",
    "from modules import urlDownload, dropboxInteractor, note_modified"
   ]
  },
  {
   "cell_type": "code",
   "execution_count": 2,
   "id": "c887f008",
   "metadata": {},
   "outputs": [
    {
     "name": "stdout",
     "output_type": "stream",
     "text": [
      "C:\\Users\\dell\\.conda\\envs\\geo_env\\python.exe\n"
     ]
    }
   ],
   "source": [
    "import sys\n",
    "print(sys.executable)"
   ]
  },
  {
   "cell_type": "code",
   "execution_count": 3,
   "id": "d69d4d46",
   "metadata": {},
   "outputs": [
    {
     "name": "stdout",
     "output_type": "stream",
     "text": [
      "Requirement already satisfied: feedparser in c:\\users\\dell\\.conda\\envs\\geo_env\\lib\\site-packages (6.0.8)\n",
      "Requirement already satisfied: sgmllib3k in c:\\users\\dell\\.conda\\envs\\geo_env\\lib\\site-packages (from feedparser) (1.0.0)\n",
      "Note: you may need to restart the kernel to use updated packages.\n"
     ]
    }
   ],
   "source": [
    "pip install feedparser"
   ]
  },
  {
   "cell_type": "code",
   "execution_count": 4,
   "id": "dc7507ad",
   "metadata": {},
   "outputs": [],
   "source": [
    "# init \n",
    "pattern_recog = patternRecognizer(r'- \\[.*\\]')  # 检测 - [DOI], 或者- [arxivId]\n",
    "meta_extracter = metaExtracter()\n",
    "url_download = urlDownload()"
   ]
  },
  {
   "cell_type": "code",
   "execution_count": 5,
   "id": "87671377",
   "metadata": {},
   "outputs": [],
   "source": [
    "md_file = r\"C:\\Users\\dell\\Desktop\\Notes&Papers\\多模态预训练论文笔记.md\"\n",
    "save_folder = r\"C:\\Users\\dell\\Desktop\\Notes&Papers\\Papers\\计算机视觉&自然语言处理论文\\多模态\""
   ]
  },
  {
   "cell_type": "code",
   "execution_count": 6,
   "id": "3d67acca",
   "metadata": {},
   "outputs": [],
   "source": [
    "pdf_link_prefix = \"./Papers/计算机视觉&自然语言处理论文/多模态/\"#最后面一定要有 /"
   ]
  },
  {
   "cell_type": "code",
   "execution_count": 7,
   "id": "aa888e18",
   "metadata": {},
   "outputs": [],
   "source": [
    "with open(md_file, 'r', encoding='utf-8') as f:\n",
    "    content = f.read()"
   ]
  },
  {
   "cell_type": "code",
   "execution_count": 10,
   "id": "44ea83d6",
   "metadata": {},
   "outputs": [
    {
     "name": "stdout",
     "output_type": "stream",
     "text": [
      "['- [2110.14375]']\n",
      "{'journal': 'arxiv', 'url': 'http://arxiv.org/abs/2110.14375v1', 'title': 'Perceptual Score: What Data Modalities Does Your Model Perceive?', 'year': '2021.10', 'author': 'Itai Gat and Idan Schwartz and Alexander Schwing', 'ENTRYTYPE': 'article'}\n",
      "文件的网址是\n",
      "https://arxiv.org/pdf/2110.14375.pdf\n"
     ]
    },
    {
     "ename": "OSError",
     "evalue": "[Errno 22] Invalid argument: 'C:\\\\Users\\\\dell\\\\Desktop\\\\Notes&Papers\\\\Papers\\\\计算机视觉&自然语言处理论文\\\\多模态\\\\[21.10] Perceptual Score What Data Modalities Does Your Model Perceive?.pdf'",
     "output_type": "error",
     "traceback": [
      "\u001b[1;31m---------------------------------------------------------------------------\u001b[0m",
      "\u001b[1;31mOSError\u001b[0m                                   Traceback (most recent call last)",
      "\u001b[1;32m<ipython-input-10-492ff30255e2>\u001b[0m in \u001b[0;36m<module>\u001b[1;34m\u001b[0m\n\u001b[0;32m     36\u001b[0m         \u001b[1;31m#保存pdf文件\u001b[0m\u001b[1;33m\u001b[0m\u001b[1;33m\u001b[0m\u001b[1;33m\u001b[0m\u001b[0m\n\u001b[0;32m     37\u001b[0m         \u001b[0msave_name\u001b[0m \u001b[1;33m=\u001b[0m \u001b[0mos\u001b[0m\u001b[1;33m.\u001b[0m\u001b[0mpath\u001b[0m\u001b[1;33m.\u001b[0m\u001b[0mjoin\u001b[0m\u001b[1;33m(\u001b[0m\u001b[0msave_folder\u001b[0m\u001b[1;33m,\u001b[0m\u001b[0mpdf_name\u001b[0m\u001b[1;33m)\u001b[0m\u001b[1;33m\u001b[0m\u001b[1;33m\u001b[0m\u001b[0m\n\u001b[1;32m---> 38\u001b[1;33m         \u001b[1;32mwith\u001b[0m \u001b[0mopen\u001b[0m\u001b[1;33m(\u001b[0m\u001b[0msave_name\u001b[0m\u001b[1;33m,\u001b[0m \u001b[1;34m\"wb\"\u001b[0m\u001b[1;33m)\u001b[0m \u001b[1;32mas\u001b[0m \u001b[0mcode\u001b[0m\u001b[1;33m:\u001b[0m\u001b[1;33m\u001b[0m\u001b[1;33m\u001b[0m\u001b[0m\n\u001b[0m\u001b[0;32m     39\u001b[0m              \u001b[0mcode\u001b[0m\u001b[1;33m.\u001b[0m\u001b[0mwrite\u001b[0m\u001b[1;33m(\u001b[0m\u001b[0mpdf_dict\u001b[0m\u001b[1;33m[\u001b[0m\u001b[1;34m'pdf'\u001b[0m\u001b[1;33m]\u001b[0m\u001b[1;33m)\u001b[0m\u001b[1;33m\u001b[0m\u001b[1;33m\u001b[0m\u001b[0m\n\u001b[0;32m     40\u001b[0m \u001b[1;33m\u001b[0m\u001b[0m\n",
      "\u001b[1;31mOSError\u001b[0m: [Errno 22] Invalid argument: 'C:\\\\Users\\\\dell\\\\Desktop\\\\Notes&Papers\\\\Papers\\\\计算机视觉&自然语言处理论文\\\\多模态\\\\[21.10] Perceptual Score What Data Modalities Does Your Model Perceive?.pdf'"
     ]
    }
   ],
   "source": [
    "m = pattern_recog.findall(content)\n",
    "print(m)\n",
    "\n",
    "if m:\n",
    "    replace_dict = dict()\n",
    "    for literature in m:\n",
    "        literature_id = literature.split('[')[-1].split(']')[0]\n",
    "    \n",
    "        try:\n",
    "            bib_dict = meta_extracter.id2bib(literature_id)\n",
    "            print(bib_dict)\n",
    "\n",
    "            if \"pdf_link\" in bib_dict.keys():\n",
    "                pdf_dict = url_download.fetch(bib_dict[\"pdf_link\"])\n",
    "                if not pdf_dict:\n",
    "                    pdf_dict = url_download.fetch(literature_id)\n",
    "            else:\n",
    "                pdf_dict = url_download.fetch(literature_id)\n",
    "\n",
    "            print(\"文件的网址是\")\n",
    "            print(pdf_dict['url'])\n",
    "\n",
    "            # Upload attachment and generate shared link\n",
    "            if \"\\n\" in bib_dict[\"title\"]:\n",
    "                bib_dict[\"title\"] = re.sub(r' *\\n *', ' ', bib_dict[\"title\"])\n",
    "\n",
    "            pdf_name = '['+bib_dict['year'][2:]+'] '+bib_dict[\"title\"]+'.pdf'\n",
    "\n",
    "            #保存文件需要改变命名格式\n",
    "            if \":\" in bib_dict[\"title\"]:\n",
    "                pdf_name = pdf_name.replace(':',\"\")\n",
    "            if \"?\" in pdf_name:\n",
    "                pdf_name = pdf_name.replace('?',\"\")\n",
    "\n",
    "\n",
    "            #保存pdf文件\n",
    "            save_name = os.path.join(save_folder,pdf_name)\n",
    "            with open(save_name, \"wb\") as code:\n",
    "                 code.write(pdf_dict['pdf'])\n",
    "\n",
    "\n",
    "            #得到相对路径，用于在markdown中创立软链接 \n",
    "            pdf_shared_link = pdf_link_prefix+pdf_name\n",
    "\n",
    "            if 'cited_count' in bib_dict.keys():\n",
    "                replaced_literature = \"- **{}**. {} et.al. **{}**, **{}**, ([pdf]({}))([link]({})), (Citations **{}**).\".format(\n",
    "                    bib_dict['title'], bib_dict[\"author\"].split(\" and \")[0], bib_dict['journal'], \n",
    "                    bib_dict['year'], pdf_shared_link, bib_dict['url'], bib_dict[\"cited_count\"]\n",
    "                    )\n",
    "            else:\n",
    "                replaced_literature = \"- **{}**. {} et.al. **{}**, **{}**, ([pdf]({}))([arxiv]({})), (Citations ).\".format(\n",
    "                    bib_dict['title'], bib_dict[\"author\"].split(\" and \")[0], bib_dict['journal'], \n",
    "                    bib_dict['year'], pdf_shared_link, bib_dict['url']\n",
    "                    )\n",
    "\n",
    "            print(replaced_literature)\n",
    "            replace_dict[literature] = replaced_literature\n",
    "        except Exception as e:\n",
    "            print(e)\n",
    "\n",
    "            # replace_dict[literature] = literature\n",
    "            \n",
    "    # Modified note\n",
    "    note_modified(pattern_recog, md_file, **replace_dict)"
   ]
  },
  {
   "cell_type": "code",
   "execution_count": null,
   "id": "d1996a12",
   "metadata": {},
   "outputs": [],
   "source": []
  },
  {
   "cell_type": "code",
   "execution_count": null,
   "id": "cba32c48",
   "metadata": {},
   "outputs": [],
   "source": []
  }
 ],
 "metadata": {
  "kernelspec": {
   "display_name": "Python 3",
   "language": "python",
   "name": "python3"
  },
  "language_info": {
   "codemirror_mode": {
    "name": "ipython",
    "version": 3
   },
   "file_extension": ".py",
   "mimetype": "text/x-python",
   "name": "python",
   "nbconvert_exporter": "python",
   "pygments_lexer": "ipython3",
   "version": "3.6.13"
  }
 },
 "nbformat": 4,
 "nbformat_minor": 5
}
