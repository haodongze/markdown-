{
 "cells": [
  {
   "cell_type": "code",
   "execution_count": 1,
   "id": "8bbe48c8",
   "metadata": {
    "scrolled": true
   },
   "outputs": [],
   "source": [
    "# -*- coding: utf-8 -*- \n",
    "import os \n",
    "import argparse\n",
    "import re \n",
    "import time \n",
    "\n",
    "from modules import folderMoniter, patternRecognizer, metaExtracter\n",
    "from modules import urlDownload, dropboxInteractor, note_modified"
   ]
  },
  {
   "cell_type": "code",
   "execution_count": 2,
   "id": "dc7507ad",
   "metadata": {},
   "outputs": [],
   "source": [
    "# init \n",
    "pattern_recog = patternRecognizer(r'- \\[.*\\]')  # 检测 - [DOI], 或者- [arxivId]\n",
    "meta_extracter = metaExtracter()"
   ]
  },
  {
   "cell_type": "code",
   "execution_count": 5,
   "id": "87671377",
   "metadata": {},
   "outputs": [],
   "source": [
    "md_file = r\"C:\\Users\\dell\\Desktop\\Notes&Papers\\test.md\""
   ]
  },
  {
   "cell_type": "code",
   "execution_count": 10,
   "id": "44ea83d6",
   "metadata": {},
   "outputs": [
    {
     "name": "stdout",
     "output_type": "stream",
     "text": [
      "['- [2111.07999]']\n",
      "{'journal': 'arxiv', 'url': 'http://arxiv.org/abs/2111.07999v1', 'title': 'Adversarial Skill Chaining for Long-Horizon Robot Manipulation via\\n  Terminal State Regularization', 'year': '2021', 'author': 'Youngwoon Lee and Joseph J. Lim and Anima Anandkumar and Yuke Zhu', 'ENTRYTYPE': 'article'}\n",
      "- **Adversarial Skill Chaining for Long-Horizon Robot Manipulation via Terminal State Regularization**. Youngwoon Lee et.al. **arxiv**, **2021**, ([pdf]())([link](http://arxiv.org/abs/2111.07999v1)), (Citations ).\n"
     ]
    }
   ],
   "source": [
    "with open(md_file, 'r', encoding='utf-8') as f:\n",
    "    content = f.read()\n",
    "m = pattern_recog.findall(content)\n",
    "print(m)\n",
    "\n",
    "if m:\n",
    "    replace_dict = dict()\n",
    "    for literature in m:\n",
    "        literature_id = literature.split('[')[-1].split(']')[0]\n",
    "        try:\n",
    "            bib_dict = meta_extracter.id2bib(literature_id)\n",
    "            print(bib_dict)\n",
    "            \n",
    "#             if \"pdf_link\" in bib_dict.keys():\n",
    "#                 pdf_dict = url_download.fetch(bib_dict[\"pdf_link\"])\n",
    "#                 if not pdf_dict:\n",
    "#                     pdf_dict = url_download.fetch(literature_id)\n",
    "#             else:\n",
    "#                 pdf_dict = url_download.fetch(literature_id)\n",
    "#             print(pdf_dict)\n",
    "            \n",
    "            # Upload attachment and generate shared link\n",
    "            if \"\\n\" in bib_dict[\"title\"]:\n",
    "                bib_dict[\"title\"] = re.sub(r' *\\n *', ' ', bib_dict[\"title\"])\n",
    "                \n",
    "            pdf_shared_link = \"\"\n",
    "                \n",
    "            if 'cited_count' in bib_dict.keys():\n",
    "                replaced_literature = \"- **{}**. {} et.al. **{}**, **{}**, ([pdf]({}))([link]({})), (Citations **{}**).\".format(\n",
    "                    bib_dict['title'], bib_dict[\"author\"].split(\" and \")[0], bib_dict['journal'], \n",
    "                    bib_dict['year'], pdf_shared_link, bib_dict['url'], bib_dict[\"cited_count\"]\n",
    "                    )\n",
    "            else:\n",
    "                replaced_literature = \"- **{}**. {} et.al. **{}**, **{}**, ([pdf]({}))([link]({})), (Citations ).\".format(\n",
    "                    bib_dict['title'], bib_dict[\"author\"].split(\" and \")[0], bib_dict['journal'], \n",
    "                    bib_dict['year'], pdf_shared_link, bib_dict['url']\n",
    "                    )\n",
    "                \n",
    "            print(replaced_literature)\n",
    "            replace_dict[literature] = replaced_literature\n",
    "        except:\n",
    "            print(\"有错误\")\n",
    "            # replace_dict[literature] = literature\n",
    "            \n",
    "    # Modified note\n",
    "    \n",
    "    note_modified(pattern_recog, md_file, **replace_dict)\n"
   ]
  },
  {
   "cell_type": "code",
   "execution_count": null,
   "id": "d1996a12",
   "metadata": {},
   "outputs": [],
   "source": []
  }
 ],
 "metadata": {
  "kernelspec": {
   "display_name": "Python 3",
   "language": "python",
   "name": "python3"
  },
  "language_info": {
   "codemirror_mode": {
    "name": "ipython",
    "version": 3
   },
   "file_extension": ".py",
   "mimetype": "text/x-python",
   "name": "python",
   "nbconvert_exporter": "python",
   "pygments_lexer": "ipython3",
   "version": "3.8.8"
  }
 },
 "nbformat": 4,
 "nbformat_minor": 5
}
