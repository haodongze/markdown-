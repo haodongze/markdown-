{
 "cells": [
  {
   "cell_type": "code",
   "execution_count": 1,
   "id": "8bbe48c8",
   "metadata": {
    "scrolled": true
   },
   "outputs": [],
   "source": [
    "# -*- coding: utf-8 -*- \n",
    "import os \n",
    "import argparse\n",
    "import re \n",
    "import time \n",
    "\n",
    "from modules import folderMoniter, patternRecognizer, metaExtracter\n",
    "from modules import urlDownload, dropboxInteractor, note_modified"
   ]
  },
  {
   "cell_type": "code",
   "execution_count": 2,
   "id": "dc7507ad",
   "metadata": {},
   "outputs": [],
   "source": [
    "# init \n",
    "pattern_recog = patternRecognizer(r'- \\[.*\\]')  # 检测 - [DOI], 或者- [arxivId]\n",
    "meta_extracter = metaExtracter()\n",
    "url_download = urlDownload()"
   ]
  },
  {
   "cell_type": "code",
   "execution_count": 11,
   "id": "87671377",
   "metadata": {},
   "outputs": [],
   "source": [
    "md_file = r\"C:\\Users\\dell\\Desktop\\Notes&Papers\\多模态预训练论文笔记.md\"\n",
    "save_folder = r\"C:\\Users\\dell\\Desktop\\Notes&Papers\\Papers\\计算机视觉&自然语言处理论文\\多模态\""
   ]
  },
  {
   "cell_type": "code",
   "execution_count": 12,
   "id": "3d67acca",
   "metadata": {},
   "outputs": [],
   "source": [
    "pdf_link_prefix = \"./Papers/计算机视觉&自然语言处理论文/多模态/\"#最后面一定要有 /"
   ]
  },
  {
   "cell_type": "code",
   "execution_count": 13,
   "id": "aa888e18",
   "metadata": {},
   "outputs": [],
   "source": [
    "with open(md_file, 'r', encoding='utf-8') as f:\n",
    "    content = f.read()"
   ]
  },
  {
   "cell_type": "code",
   "execution_count": 14,
   "id": "44ea83d6",
   "metadata": {},
   "outputs": [
    {
     "name": "stdout",
     "output_type": "stream",
     "text": [
      "['- [2109.04448]']\n",
      "{'journal': 'arxiv', 'url': 'http://arxiv.org/abs/2109.04448v1', 'title': 'Vision-and-Language or Vision-for-Language? On Cross-Modal Influence in\\n  Multimodal Transformers', 'year': '2021.09', 'author': 'Stella Frank and Emanuele Bugliarello and Desmond Elliott', 'ENTRYTYPE': 'article'}\n",
      "文件的网址是\n",
      "https://arxiv.org/pdf/2109.04448.pdf\n",
      "- **Vision-and-Language or Vision-for-Language? On Cross-Modal Influence in Multimodal Transformers**. Stella Frank et.al. **arxiv**, **2021.09**, ([pdf](./Papers/计算机视觉&自然语言处理论文/多模态/[21.09] Vision-and-Language or Vision-for-Language On Cross-Modal Influence in Multimodal Transformers.pdf))([arxiv](http://arxiv.org/abs/2109.04448v1)), (Citations ).\n"
     ]
    }
   ],
   "source": [
    "m = pattern_recog.findall(content)\n",
    "print(m)\n",
    "\n",
    "if m:\n",
    "    replace_dict = dict()\n",
    "    for literature in m:\n",
    "        literature_id = literature.split('[')[-1].split(']')[0]\n",
    "    \n",
    "        try:\n",
    "            bib_dict = meta_extracter.id2bib(literature_id)\n",
    "            print(bib_dict)\n",
    "            \n",
    "            if \"pdf_link\" in bib_dict.keys():\n",
    "                pdf_dict = url_download.fetch(bib_dict[\"pdf_link\"])\n",
    "                if not pdf_dict:\n",
    "                    pdf_dict = url_download.fetch(literature_id)\n",
    "            else:\n",
    "                pdf_dict = url_download.fetch(literature_id)\n",
    "                \n",
    "            print(\"文件的网址是\")\n",
    "            print(pdf_dict['url'])\n",
    "            \n",
    "            # Upload attachment and generate shared link\n",
    "            if \"\\n\" in bib_dict[\"title\"]:\n",
    "                bib_dict[\"title\"] = re.sub(r' *\\n *', ' ', bib_dict[\"title\"])\n",
    "                \n",
    "            #保存文件需要改变命名格式\n",
    "            if \":\" in bib_dict[\"title\"]:\n",
    "                pdf_name = '['+bib_dict['year'][2:]+'] '+bib_dict[\"title\"].replace(':',\"\")+'.pdf'\n",
    "            elif \"?\" in bib_dict[\"title\"]:\n",
    "                pdf_name = '['+bib_dict['year'][2:]+'] '+bib_dict[\"title\"].replace('?',\"\")+'.pdf'\n",
    "            else:\n",
    "                pdf_name = '['+bib_dict['year'][2:]+'] '+bib_dict[\"title\"]+'.pdf'\n",
    "                \n",
    "            \n",
    "            #保存pdf文件\n",
    "            save_name = os.path.join(save_folder,pdf_name)\n",
    "            with open(save_name, \"wb\") as code:\n",
    "                 code.write(pdf_dict['pdf'])\n",
    "            \n",
    "            \n",
    "            #得到相对路径，用于在markdown中创立软链接 \n",
    "            pdf_shared_link = pdf_link_prefix+pdf_name\n",
    "                \n",
    "            if 'cited_count' in bib_dict.keys():\n",
    "                replaced_literature = \"- **{}**. {} et.al. **{}**, **{}**, ([pdf]({}))([link]({})), (Citations **{}**).\".format(\n",
    "                    bib_dict['title'], bib_dict[\"author\"].split(\" and \")[0], bib_dict['journal'], \n",
    "                    bib_dict['year'], pdf_shared_link, bib_dict['url'], bib_dict[\"cited_count\"]\n",
    "                    )\n",
    "            else:\n",
    "                replaced_literature = \"- **{}**. {} et.al. **{}**, **{}**, ([pdf]({}))([arxiv]({})), (Citations ).\".format(\n",
    "                    bib_dict['title'], bib_dict[\"author\"].split(\" and \")[0], bib_dict['journal'], \n",
    "                    bib_dict['year'], pdf_shared_link, bib_dict['url']\n",
    "                    )\n",
    "                \n",
    "            print(replaced_literature)\n",
    "            replace_dict[literature] = replaced_literature\n",
    "        except:\n",
    "            print(\"\")\n",
    "        \n",
    "            # replace_dict[literature] = literature\n",
    "            \n",
    "    # Modified note\n",
    "    note_modified(pattern_recog, md_file, **replace_dict)"
   ]
  },
  {
   "cell_type": "code",
   "execution_count": null,
   "id": "d1996a12",
   "metadata": {},
   "outputs": [],
   "source": []
  },
  {
   "cell_type": "code",
   "execution_count": null,
   "id": "3f35b12f",
   "metadata": {},
   "outputs": [],
   "source": []
  }
 ],
 "metadata": {
  "kernelspec": {
   "display_name": "Python 3",
   "language": "python",
   "name": "python3"
  },
  "language_info": {
   "codemirror_mode": {
    "name": "ipython",
    "version": 3
   },
   "file_extension": ".py",
   "mimetype": "text/x-python",
   "name": "python",
   "nbconvert_exporter": "python",
   "pygments_lexer": "ipython3",
   "version": "3.8.8"
  }
 },
 "nbformat": 4,
 "nbformat_minor": 5
}
